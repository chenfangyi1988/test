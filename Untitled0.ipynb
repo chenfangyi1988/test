{
  "cells": [
    {
      "cell_type": "markdown",
      "metadata": {
        "id": "view-in-github",
        "colab_type": "text"
      },
      "source": [
        "<a href=\"https://colab.research.google.com/github/chenfangyi1988/test/blob/master/Untitled0.ipynb\" target=\"_parent\"><img src=\"https://colab.research.google.com/assets/colab-badge.svg\" alt=\"Open In Colab\"/></a>"
      ]
    },
    {
      "cell_type": "markdown",
      "metadata": {
        "id": "APR5od6W1rrJ"
      },
      "source": [
        "# FairHGNN0623_MLP"
      ]
    },
    {
      "cell_type": "code",
      "execution_count": 1,
      "metadata": {
        "colab": {
          "base_uri": "https://localhost:8080/"
        },
        "id": "D0doDWrgSrRK",
        "outputId": "7a44a2dc-1384-4ac9-a9ea-b95a92dd0fea"
      },
      "outputs": [
        {
          "output_type": "stream",
          "name": "stdout",
          "text": [
            "Drive already mounted at /content/drive; to attempt to forcibly remount, call drive.mount(\"/content/drive\", force_remount=True).\n"
          ]
        }
      ],
      "source": [
        "from google.colab import drive\n",
        "drive.mount('/content/drive')"
      ]
    },
    {
      "cell_type": "code",
      "execution_count": 2,
      "metadata": {
        "colab": {
          "base_uri": "https://localhost:8080/"
        },
        "id": "N69vHO2j_OCL",
        "outputId": "52455bac-d84b-43b7-c1b3-775f07aa2b80"
      },
      "outputs": [
        {
          "output_type": "stream",
          "name": "stdout",
          "text": [
            "Looking in indexes: https://pypi.org/simple, https://us-python.pkg.dev/colab-wheels/public/simple/\n",
            "Collecting condacolab\n",
            "  Downloading condacolab-0.1.3-py3-none-any.whl (6.8 kB)\n",
            "Installing collected packages: condacolab\n",
            "Successfully installed condacolab-0.1.3\n"
          ]
        }
      ],
      "source": [
        "!pip install condacolab"
      ]
    },
    {
      "cell_type": "code",
      "execution_count": 3,
      "metadata": {
        "colab": {
          "base_uri": "https://localhost:8080/"
        },
        "id": "siG-EhwqBDl_",
        "outputId": "980f8433-a56e-46c2-ef62-e8ecba14ec58"
      },
      "outputs": [
        {
          "output_type": "stream",
          "name": "stdout",
          "text": [
            "⏬ Downloading https://github.com/jaimergp/miniforge/releases/latest/download/Mambaforge-colab-Linux-x86_64.sh...\n",
            "📦 Installing...\n",
            "📌 Adjusting configuration...\n",
            "🩹 Patching environment...\n",
            "⏲ Done in 0:00:31\n",
            "🔁 Restarting kernel...\n"
          ]
        }
      ],
      "source": [
        "import condacolab\n",
        "condacolab.install()"
      ]
    },
    {
      "cell_type": "code",
      "execution_count": 4,
      "metadata": {
        "colab": {
          "base_uri": "https://localhost:8080/"
        },
        "id": "NkBysLB4BmUP",
        "outputId": "c74e092b-b391-492d-f2af-4acb50b97238"
      },
      "outputs": [
        {
          "output_type": "stream",
          "name": "stdout",
          "text": [
            "Collecting package metadata (current_repodata.json): - \b\b\\ \b\b| \b\b/ \b\b- \b\b\\ \b\b| \b\b/ \b\b- \b\b\\ \b\b| \b\b/ \b\b- \b\b\\ \b\b| \b\b/ \b\b- \b\b\\ \b\b| \b\b/ \b\b- \b\b\\ \b\b| \b\b/ \b\b- \b\b\\ \b\b| \b\b/ \b\b- \b\b\\ \b\b| \b\b/ \b\b- \b\b\\ \b\b| \b\b/ \b\b- \b\b\\ \b\b| \b\b/ \b\b- \b\b\\ \b\b| \b\b/ \b\b- \b\b\\ \b\b| \b\b/ \b\b- \b\b\\ \b\b| \b\b/ \b\b- \b\b\\ \b\b| \b\b/ \b\b- \b\b\\ \b\b| \b\b/ \b\b- \b\b\\ \b\b| \b\b/ \b\b- \b\b\\ \b\b| \b\b/ \b\b- \b\b\\ \b\b| \b\b/ \b\b- \b\b\\ \b\b| \b\b/ \b\bdone\n",
            "Solving environment: \\ \b\b| \b\b/ \b\b- \b\b\\ \b\b| \b\b/ \b\b- \b\b\\ \b\b| \b\b/ \b\b- \b\b\\ \b\b| \b\b/ \b\b- \b\b\\ \b\b| \b\b/ \b\b- \b\b\\ \n",
            "Warning: 2 possible package resolutions (only showing differing packages):\n",
            "  - conda-forge/noarch::decorator-5.1.1-pyhd8ed1ab_0, conda-forge/noarch::networkx-2.3-py_0\n",
            "  - conda-forge/noarch::decorator-4.4.2-py_0, conda-forge/noarch::networkx-2.5.1-pyhd8ed1ab_0\b\bdone\n",
            "\n",
            "## Package Plan ##\n",
            "\n",
            "  environment location: /usr/local\n",
            "\n",
            "  added / updated specs:\n",
            "    - dgl-cuda11.3\n",
            "\n",
            "\n",
            "The following packages will be downloaded:\n",
            "\n",
            "    package                    |            build\n",
            "    ---------------------------|-----------------\n",
            "    ca-certificates-2022.6.15  |       ha878542_0         149 KB  conda-forge\n",
            "    certifi-2022.6.15          |   py37h89c1867_0         155 KB  conda-forge\n",
            "    conda-4.13.0               |   py37h89c1867_1         989 KB  conda-forge\n",
            "    decorator-5.1.1            |     pyhd8ed1ab_0          12 KB  conda-forge\n",
            "    dgl-cuda11.3-0.8.2         |           py37_0       189.7 MB  dglteam\n",
            "    libblas-3.9.0              |11_linux64_openblas          12 KB  conda-forge\n",
            "    libcblas-3.9.0             |11_linux64_openblas          11 KB  conda-forge\n",
            "    libgfortran-ng-12.1.0      |      h69a702a_16          23 KB  conda-forge\n",
            "    libgfortran5-12.1.0        |      hdcd56e2_16         1.8 MB  conda-forge\n",
            "    liblapack-3.9.0            |11_linux64_openblas          11 KB  conda-forge\n",
            "    libopenblas-0.3.17         |pthreads_h8fe5266_1         9.2 MB  conda-forge\n",
            "    networkx-2.3               |             py_0         1.1 MB  conda-forge\n",
            "    numpy-1.20.3               |   py37h038b26d_1         5.7 MB  conda-forge\n",
            "    python_abi-3.7             |          2_cp37m           4 KB  conda-forge\n",
            "    scipy-1.5.3                |   py37h14a347d_0        19.1 MB  conda-forge\n",
            "    ------------------------------------------------------------\n",
            "                                           Total:       227.9 MB\n",
            "\n",
            "The following NEW packages will be INSTALLED:\n",
            "\n",
            "  decorator          conda-forge/noarch::decorator-5.1.1-pyhd8ed1ab_0\n",
            "  dgl-cuda11.3       dglteam/linux-64::dgl-cuda11.3-0.8.2-py37_0\n",
            "  libblas            conda-forge/linux-64::libblas-3.9.0-11_linux64_openblas\n",
            "  libcblas           conda-forge/linux-64::libcblas-3.9.0-11_linux64_openblas\n",
            "  libgfortran-ng     conda-forge/linux-64::libgfortran-ng-12.1.0-h69a702a_16\n",
            "  libgfortran5       conda-forge/linux-64::libgfortran5-12.1.0-hdcd56e2_16\n",
            "  liblapack          conda-forge/linux-64::liblapack-3.9.0-11_linux64_openblas\n",
            "  libopenblas        conda-forge/linux-64::libopenblas-0.3.17-pthreads_h8fe5266_1\n",
            "  networkx           conda-forge/noarch::networkx-2.3-py_0\n",
            "  numpy              conda-forge/linux-64::numpy-1.20.3-py37h038b26d_1\n",
            "  scipy              conda-forge/linux-64::scipy-1.5.3-py37h14a347d_0\n",
            "\n",
            "The following packages will be UPDATED:\n",
            "\n",
            "  ca-certificates                      2020.12.5-ha878542_0 --> 2022.6.15-ha878542_0\n",
            "  certifi                          2020.12.5-py37h89c1867_1 --> 2022.6.15-py37h89c1867_0\n",
            "  conda                                4.9.2-py37h89c1867_0 --> 4.13.0-py37h89c1867_1\n",
            "  python_abi                                    3.7-1_cp37m --> 3.7-2_cp37m\n",
            "\n",
            "\n",
            "\n",
            "Downloading and Extracting Packages\n",
            "conda-4.13.0         | 989 KB    | : 100% 1.0/1 [00:00<00:00,  3.07it/s]\n",
            "python_abi-3.7       | 4 KB      | : 100% 1.0/1 [00:00<00:00, 28.14it/s]\n",
            "libopenblas-0.3.17   | 9.2 MB    | : 100% 1.0/1 [00:01<00:00,  1.64s/it]\n",
            "decorator-5.1.1      | 12 KB     | : 100% 1.0/1 [00:00<00:00, 31.23it/s]\n",
            "certifi-2022.6.15    | 155 KB    | : 100% 1.0/1 [00:00<00:00, 20.51it/s]\n",
            "numpy-1.20.3         | 5.7 MB    | : 100% 1.0/1 [00:01<00:00,  1.65s/it]\n",
            "libblas-3.9.0        | 12 KB     | : 100% 1.0/1 [00:00<00:00, 21.96it/s]\n",
            "scipy-1.5.3          | 19.1 MB   | : 100% 1.0/1 [00:03<00:00,  3.09s/it]\n",
            "libcblas-3.9.0       | 11 KB     | : 100% 1.0/1 [00:00<00:00, 28.98it/s]\n",
            "ca-certificates-2022 | 149 KB    | : 100% 1.0/1 [00:00<00:00, 19.94it/s]\n",
            "libgfortran-ng-12.1. | 23 KB     | : 100% 1.0/1 [00:00<00:00, 28.39it/s]\n",
            "libgfortran5-12.1.0  | 1.8 MB    | : 100% 1.0/1 [00:00<00:00,  3.06it/s]\n",
            "liblapack-3.9.0      | 11 KB     | : 100% 1.0/1 [00:00<00:00, 18.48it/s]\n",
            "networkx-2.3         | 1.1 MB    | : 100% 1.0/1 [00:00<00:00,  3.21it/s]\n",
            "dgl-cuda11.3-0.8.2   | 189.7 MB  | : 100% 1.0/1 [00:28<00:00, 28.14s/it]\n",
            "Preparing transaction: / \b\b- \b\bdone\n",
            "Verifying transaction: | \b\b/ \b\b- \b\b\\ \b\bdone\n",
            "Executing transaction: / \b\b- \b\b\\ \b\b| \b\b/ \b\b- \b\b\\ \b\b| \b\b/ \b\b- \b\b\\ \b\b| \b\b/ \b\bdone\n"
          ]
        }
      ],
      "source": [
        "!conda install -c dglteam dgl-cuda11.3"
      ]
    },
    {
      "cell_type": "code",
      "execution_count": 5,
      "metadata": {
        "colab": {
          "base_uri": "https://localhost:8080/"
        },
        "id": "zLpVSq3KF5wQ",
        "outputId": "0e587a3e-a117-4df2-8c77-58b34e2e1967"
      },
      "outputs": [
        {
          "output_type": "stream",
          "name": "stdout",
          "text": [
            "Looking in indexes: https://pypi.org/simple, https://us-python.pkg.dev/colab-wheels/public/simple/\n",
            "Processing ./drive/MyDrive/colab/torch-1.11.0+cu113-cp37-cp37m-linux_x86_64.whl\n",
            "\u001b[31mERROR: Exception:\n",
            "Traceback (most recent call last):\n",
            "  File \"/usr/local/lib/python3.7/site-packages/pip/_internal/cli/base_command.py\", line 189, in _main\n",
            "    status = self.run(options, args)\n",
            "  File \"/usr/local/lib/python3.7/site-packages/pip/_internal/cli/req_command.py\", line 178, in wrapper\n",
            "    return func(self, options, args)\n",
            "  File \"/usr/local/lib/python3.7/site-packages/pip/_internal/commands/install.py\", line 317, in run\n",
            "    reqs, check_supported_wheels=not options.target_dir\n",
            "  File \"/usr/local/lib/python3.7/site-packages/pip/_internal/resolution/resolvelib/resolver.py\", line 101, in resolve\n",
            "    req, requested_extras=(),\n",
            "  File \"/usr/local/lib/python3.7/site-packages/pip/_internal/resolution/resolvelib/factory.py\", line 306, in make_requirement_from_install_req\n",
            "    version=None,\n",
            "  File \"/usr/local/lib/python3.7/site-packages/pip/_internal/resolution/resolvelib/factory.py\", line 169, in _make_candidate_from_link\n",
            "    name=name, version=version,\n",
            "  File \"/usr/local/lib/python3.7/site-packages/pip/_internal/resolution/resolvelib/candidates.py\", line 306, in __init__\n",
            "    version=version,\n",
            "  File \"/usr/local/lib/python3.7/site-packages/pip/_internal/resolution/resolvelib/candidates.py\", line 144, in __init__\n",
            "    self.dist = self._prepare()\n",
            "  File \"/usr/local/lib/python3.7/site-packages/pip/_internal/resolution/resolvelib/candidates.py\", line 226, in _prepare\n",
            "    dist = self._prepare_distribution()\n",
            "  File \"/usr/local/lib/python3.7/site-packages/pip/_internal/resolution/resolvelib/candidates.py\", line 312, in _prepare_distribution\n",
            "    self._ireq, parallel_builds=True,\n",
            "  File \"/usr/local/lib/python3.7/site-packages/pip/_internal/operations/prepare.py\", line 457, in prepare_linked_requirement\n",
            "    return self._prepare_linked_requirement(req, parallel_builds)\n",
            "  File \"/usr/local/lib/python3.7/site-packages/pip/_internal/operations/prepare.py\", line 501, in _prepare_linked_requirement\n",
            "    req, self.req_tracker, self.finder, self.build_isolation,\n",
            "  File \"/usr/local/lib/python3.7/site-packages/pip/_internal/operations/prepare.py\", line 67, in _get_prepared_distribution\n",
            "    return abstract_dist.get_pkg_resources_distribution()\n",
            "  File \"/usr/local/lib/python3.7/site-packages/pip/_internal/distributions/wheel.py\", line 30, in get_pkg_resources_distribution\n",
            "    with ZipFile(self.req.local_file_path, allowZip64=True) as z:\n",
            "  File \"/usr/local/lib/python3.7/zipfile.py\", line 1258, in __init__\n",
            "    self._RealGetContents()\n",
            "  File \"/usr/local/lib/python3.7/zipfile.py\", line 1325, in _RealGetContents\n",
            "    raise BadZipFile(\"File is not a zip file\")\n",
            "zipfile.BadZipFile: File is not a zip file\u001b[0m\n",
            "Looking in indexes: https://pypi.org/simple, https://us-python.pkg.dev/colab-wheels/public/simple/\n",
            "Processing ./drive/MyDrive/colab/torchvision-0.11.3+cu113-cp37-cp37m-linux_x86_64.whl\n",
            "Requirement already satisfied: numpy in /usr/local/lib/python3.7/site-packages (from torchvision==0.11.3+cu113) (1.20.3)\n",
            "Collecting pillow!=8.3.0,>=5.3.0\n",
            "  Downloading Pillow-9.1.1-cp37-cp37m-manylinux_2_17_x86_64.manylinux2014_x86_64.whl (3.1 MB)\n",
            "\u001b[K     |████████████████████████████████| 3.1 MB 5.3 MB/s \n",
            "\u001b[?25hCollecting torch==1.10.2\n",
            "  Downloading torch-1.10.2-cp37-cp37m-manylinux1_x86_64.whl (881.9 MB)\n",
            "\u001b[K     |██████████████████████████████▎ | 834.1 MB 1.1 MB/s eta 0:00:42tcmalloc: large alloc 1147494400 bytes == 0x55bbffe1a000 @  0x7f6479b95615 0x55bbc710667c 0x55bbc71da98b 0x55bbc71071a2 0x55bbc71796c4 0x55bbc7179a9d 0x55bbc71a0544 0x55bbc70e7af2 0x55bbc7116030 0x55bbc71799c8 0x55bbc71a474a 0x55bbc70e7af2 0x55bbc7116030 0x55bbc71799c8 0x55bbc71a11d9 0x55bbc716954f 0x55bbc71a0789 0x55bbc716954f 0x55bbc71a0789 0x55bbc716954f 0x55bbc71a0789 0x55bbc70e8ead 0x55bbc7107c4e 0x55bbc71e7e99 0x55bbc7178a5b 0x55bbc7179b59 0x55bbc71a04ac 0x55bbc70e7af2 0x55bbc7116030 0x55bbc71799c8 0x55bbc71a11d9\n",
            "\u001b[K     |████████████████████████████████| 881.9 MB 1.9 kB/s \n",
            "\u001b[?25hCollecting typing-extensions\n",
            "  Downloading typing_extensions-4.2.0-py3-none-any.whl (24 kB)\n",
            "Installing collected packages: typing-extensions, torch, pillow, torchvision\n",
            "Successfully installed pillow-9.1.1 torch-1.10.2 torchvision-0.11.3+cu113 typing-extensions-4.2.0\n"
          ]
        }
      ],
      "source": [
        "!pip install /content/drive/MyDrive/colab/torch-1.11.0+cu113-cp37-cp37m-linux_x86_64.whl\n",
        "!pip install /content/drive/MyDrive/colab/torchvision-0.11.3+cu113-cp37-cp37m-linux_x86_64.whl"
      ]
    },
    {
      "cell_type": "code",
      "execution_count": 6,
      "metadata": {
        "colab": {
          "base_uri": "https://localhost:8080/"
        },
        "id": "a-GGYUAZD1Jj",
        "outputId": "3352a503-794a-4be9-e4d4-7cc847db1754"
      },
      "outputs": [
        {
          "output_type": "stream",
          "name": "stdout",
          "text": [
            "Looking in indexes: https://pypi.org/simple, https://us-python.pkg.dev/colab-wheels/public/simple/\n",
            "Collecting sklearn\n",
            "  Downloading sklearn-0.0.tar.gz (1.1 kB)\n",
            "Collecting scikit-learn\n",
            "  Downloading scikit_learn-1.0.2-cp37-cp37m-manylinux_2_17_x86_64.manylinux2014_x86_64.whl (24.8 MB)\n",
            "\u001b[K     |████████████████████████████████| 24.8 MB 1.6 MB/s \n",
            "\u001b[?25hCollecting threadpoolctl>=2.0.0\n",
            "  Downloading threadpoolctl-3.1.0-py3-none-any.whl (14 kB)\n",
            "Collecting joblib>=0.11\n",
            "  Downloading joblib-1.1.0-py2.py3-none-any.whl (306 kB)\n",
            "\u001b[K     |████████████████████████████████| 306 kB 65.3 MB/s \n",
            "\u001b[?25hRequirement already satisfied: numpy>=1.14.6 in /usr/local/lib/python3.7/site-packages (from scikit-learn->sklearn) (1.20.3)\n",
            "Requirement already satisfied: scipy>=1.1.0 in /usr/local/lib/python3.7/site-packages (from scikit-learn->sklearn) (1.5.3)\n",
            "Building wheels for collected packages: sklearn\n",
            "  Building wheel for sklearn (setup.py) ... \u001b[?25l\u001b[?25hdone\n",
            "  Created wheel for sklearn: filename=sklearn-0.0-py2.py3-none-any.whl size=1316 sha256=abd16687b2c29a6f05da01b065cfaa1fd400d945ff9486fc3a5b9b850f6e98b9\n",
            "  Stored in directory: /root/.cache/pip/wheels/46/ef/c3/157e41f5ee1372d1be90b09f74f82b10e391eaacca8f22d33e\n",
            "Successfully built sklearn\n",
            "Installing collected packages: threadpoolctl, joblib, scikit-learn, sklearn\n",
            "Successfully installed joblib-1.1.0 scikit-learn-1.0.2 sklearn-0.0 threadpoolctl-3.1.0\n"
          ]
        }
      ],
      "source": [
        "!pip install sklearn"
      ]
    },
    {
      "cell_type": "code",
      "source": [
        "!pip install pandas"
      ],
      "metadata": {
        "colab": {
          "base_uri": "https://localhost:8080/",
          "height": 367
        },
        "id": "YB3-tCQtyefu",
        "outputId": "0a5abe73-9e17-492e-ba7c-21f9e62e78fb"
      },
      "execution_count": 3,
      "outputs": [
        {
          "output_type": "stream",
          "name": "stdout",
          "text": [
            "Looking in indexes: https://pypi.org/simple, https://us-python.pkg.dev/colab-wheels/public/simple/\n",
            "Collecting pandas\n",
            "  Downloading pandas-1.3.5-cp37-cp37m-manylinux_2_17_x86_64.manylinux2014_x86_64.whl (11.3 MB)\n",
            "\u001b[K     |████████████████████████████████| 11.3 MB 5.0 MB/s \n",
            "\u001b[?25hCollecting pytz>=2017.3\n",
            "  Downloading pytz-2022.1-py2.py3-none-any.whl (503 kB)\n",
            "\u001b[K     |████████████████████████████████| 503 kB 51.2 MB/s \n",
            "\u001b[?25hRequirement already satisfied: numpy>=1.17.3 in /usr/local/lib/python3.7/site-packages (from pandas) (1.20.3)\n",
            "Collecting python-dateutil>=2.7.3\n",
            "  Downloading python_dateutil-2.8.2-py2.py3-none-any.whl (247 kB)\n",
            "\u001b[K     |████████████████████████████████| 247 kB 71.7 MB/s \n",
            "\u001b[?25hRequirement already satisfied: six>=1.5 in /usr/local/lib/python3.7/site-packages (from python-dateutil>=2.7.3->pandas) (1.15.0)\n",
            "Installing collected packages: pytz, python-dateutil, pandas\n",
            "Successfully installed pandas-1.3.5 python-dateutil-2.8.2 pytz-2022.1\n"
          ]
        },
        {
          "output_type": "display_data",
          "data": {
            "application/vnd.colab-display-data+json": {
              "pip_warning": {
                "packages": [
                  "dateutil"
                ]
              }
            }
          },
          "metadata": {}
        }
      ]
    },
    {
      "cell_type": "code",
      "source": [
        "!pip install psutil"
      ],
      "metadata": {
        "colab": {
          "base_uri": "https://localhost:8080/"
        },
        "id": "BDdWbrFpyj2t",
        "outputId": "0e060ae9-21c7-4635-9c29-0248a84de7d2"
      },
      "execution_count": 5,
      "outputs": [
        {
          "output_type": "stream",
          "name": "stdout",
          "text": [
            "Looking in indexes: https://pypi.org/simple, https://us-python.pkg.dev/colab-wheels/public/simple/\n",
            "Collecting psutil\n",
            "  Downloading psutil-5.9.1-cp37-cp37m-manylinux_2_12_x86_64.manylinux2010_x86_64.manylinux_2_17_x86_64.manylinux2014_x86_64.whl (281 kB)\n",
            "\u001b[K     |████████████████████████████████| 281 kB 5.1 MB/s \n",
            "\u001b[?25hInstalling collected packages: psutil\n",
            "Successfully installed psutil-5.9.1\n"
          ]
        }
      ]
    },
    {
      "cell_type": "code",
      "execution_count": 7,
      "metadata": {
        "colab": {
          "base_uri": "https://localhost:8080/"
        },
        "id": "BUxDAR21D1BH",
        "outputId": "a2f267a6-7d15-4dce-f8a0-c6cfee35702a"
      },
      "outputs": [
        {
          "output_type": "stream",
          "name": "stdout",
          "text": [
            "Loading Movielens dataset from ./datasets/Movielens/\n",
            "--------training processing-------\n",
            "epoch_0\n",
            "100% 390/390 [01:52<00:00,  3.47it/s]\n",
            "cls_loss: 1.9967000484466553\n",
            "adv_loss: 1.857300043106079\n",
            "rsme: 1.125\n",
            "acc_sens: 0.3935\n",
            "roc_sens: 0.4894\n",
            "parity: 0.8224\n",
            "equality: 2.1206\n",
            "epoch: 0\trsme: 1.125\tacc_sens: 0.3935\troc_sens: 0.4894\tparity: 0.8224\tequality: 2.1206\t\n",
            "\n",
            "epoch_1\n",
            "100% 390/390 [01:49<00:00,  3.56it/s]\n",
            "cls_loss: 1.2603000402450562\n",
            "adv_loss: 1.819000005722046\n",
            "rsme: 1.1191999912261963\n",
            "acc_sens: 0.3993\n",
            "roc_sens: 0.5046\n",
            "parity: 0.5331\n",
            "equality: 1.553\n",
            "epoch: 1\trsme: 1.1191999912261963\tacc_sens: 0.3993\troc_sens: 0.5046\tparity: 0.5331\tequality: 1.553\t\n",
            "\n",
            "epoch_2\n",
            "100% 390/390 [01:49<00:00,  3.56it/s]\n",
            "cls_loss: 1.2548999786376953\n",
            "adv_loss: 1.919100046157837\n",
            "rsme: 1.121000051498413\n",
            "acc_sens: 0.3993\n",
            "roc_sens: 0.5053\n",
            "parity: 0.3137\n",
            "equality: 0.9298\n",
            "epoch: 2\trsme: 1.121000051498413\tacc_sens: 0.3993\troc_sens: 0.5053\tparity: 0.3137\tequality: 0.9298\t\n",
            "\n",
            "epoch_3\n",
            "100% 390/390 [01:49<00:00,  3.57it/s]\n",
            "cls_loss: 1.2549999952316284\n",
            "adv_loss: 1.9205000400543213\n",
            "rsme: 1.1181000471115112\n",
            "acc_sens: 0.3993\n",
            "roc_sens: 0.5\n",
            "parity: 0.2698\n",
            "equality: 0.8129\n",
            "epoch: 3\trsme: 1.1181000471115112\tacc_sens: 0.3993\troc_sens: 0.5\tparity: 0.2698\tequality: 0.8129\t\n",
            "\n",
            "epoch_4\n",
            "100% 390/390 [01:49<00:00,  3.57it/s]\n",
            "cls_loss: 1.2558000087738037\n",
            "adv_loss: 1.9200999736785889\n",
            "rsme: 1.1210999488830566\n",
            "acc_sens: 0.3993\n",
            "roc_sens: 0.5\n",
            "parity: 0.2146\n",
            "equality: 0.666\n",
            "epoch: 4\trsme: 1.1210999488830566\tacc_sens: 0.3993\troc_sens: 0.5\tparity: 0.2146\tequality: 0.666\t\n",
            "\n",
            "epoch_5\n",
            "100% 390/390 [01:49<00:00,  3.58it/s]\n",
            "cls_loss: 1.2563999891281128\n",
            "adv_loss: 1.919800043106079\n",
            "rsme: 1.118299961090088\n",
            "acc_sens: 0.3993\n",
            "roc_sens: 0.5\n",
            "parity: 0.1949\n",
            "equality: 0.6009\n",
            "epoch: 5\trsme: 1.118299961090088\tacc_sens: 0.3993\troc_sens: 0.5\tparity: 0.1949\tequality: 0.6009\t\n",
            "\n",
            "epoch_6\n",
            "100% 390/390 [01:49<00:00,  3.55it/s]\n",
            "cls_loss: 1.2553999423980713\n",
            "adv_loss: 1.9192999601364136\n",
            "rsme: 1.1180000305175781\n",
            "acc_sens: 0.3993\n",
            "roc_sens: 0.5\n",
            "parity: 0.1662\n",
            "equality: 0.5518\n",
            "epoch: 6\trsme: 1.1180000305175781\tacc_sens: 0.3993\troc_sens: 0.5\tparity: 0.1662\tequality: 0.5518\t\n",
            "\n",
            "epoch_7\n",
            "100% 390/390 [01:50<00:00,  3.52it/s]\n",
            "cls_loss: 1.2552000284194946\n",
            "adv_loss: 1.9180999994277954\n",
            "rsme: 1.1267999410629272\n",
            "acc_sens: 0.3993\n",
            "roc_sens: 0.5\n",
            "parity: 0.1404\n",
            "equality: 0.4824\n",
            "epoch: 7\trsme: 1.1267999410629272\tacc_sens: 0.3993\troc_sens: 0.5\tparity: 0.1404\tequality: 0.4824\t\n",
            "\n",
            "epoch_8\n",
            "100% 390/390 [01:49<00:00,  3.57it/s]\n",
            "cls_loss: 1.257099986076355\n",
            "adv_loss: 1.9120999574661255\n",
            "rsme: 1.117900013923645\n",
            "acc_sens: 0.3993\n",
            "roc_sens: 0.5\n",
            "parity: 0.1494\n",
            "equality: 0.4823\n",
            "epoch: 8\trsme: 1.117900013923645\tacc_sens: 0.3993\troc_sens: 0.5\tparity: 0.1494\tequality: 0.4823\t\n",
            "\n",
            "epoch_9\n",
            "100% 390/390 [01:50<00:00,  3.54it/s]\n",
            "cls_loss: 1.2548999786376953\n",
            "adv_loss: 1.9163000583648682\n",
            "rsme: 1.1246000528335571\n",
            "acc_sens: 0.3993\n",
            "roc_sens: 0.5\n",
            "parity: 0.0852\n",
            "equality: 0.3209\n",
            "epoch: 9\trsme: 1.1246000528335571\tacc_sens: 0.3993\troc_sens: 0.5\tparity: 0.0852\tequality: 0.3209\t\n",
            "\n",
            "epoch_10\n",
            "100% 390/390 [01:49<00:00,  3.56it/s]\n",
            "cls_loss: 1.2539000511169434\n",
            "adv_loss: 1.916100025177002\n",
            "rsme: 1.118299961090088\n",
            "acc_sens: 0.3993\n",
            "roc_sens: 0.5\n",
            "parity: 0.0854\n",
            "equality: 0.3475\n",
            "epoch: 10\trsme: 1.118299961090088\tacc_sens: 0.3993\troc_sens: 0.5\tparity: 0.0854\tequality: 0.3475\t\n",
            "\n",
            "epoch_11\n",
            "100% 390/390 [01:49<00:00,  3.56it/s]\n",
            "cls_loss: 1.3664000034332275\n",
            "adv_loss: 1.7554999589920044\n",
            "rsme: 1.2085000276565552\n",
            "acc_sens: 0.3993\n",
            "roc_sens: 0.5\n",
            "parity: 0.3787\n",
            "equality: 0.9819\n",
            "epoch: 11\trsme: 1.2085000276565552\tacc_sens: 0.3993\troc_sens: 0.5\tparity: 0.3787\tequality: 0.9819\t\n",
            "\n",
            "epoch_12\n",
            "100% 390/390 [01:49<00:00,  3.57it/s]\n",
            "cls_loss: 1.3079999685287476\n",
            "adv_loss: 1.4297000169754028\n",
            "rsme: 1.1928000450134277\n",
            "acc_sens: 0.3993\n",
            "roc_sens: 0.5\n",
            "parity: 0.1755\n",
            "equality: 0.5359\n",
            "epoch: 12\trsme: 1.1928000450134277\tacc_sens: 0.3993\troc_sens: 0.5\tparity: 0.1755\tequality: 0.5359\t\n",
            "\n",
            "epoch_13\n",
            "100% 390/390 [01:49<00:00,  3.55it/s]\n",
            "cls_loss: 1.2903000116348267\n",
            "adv_loss: 1.4457000494003296\n",
            "rsme: 1.1504000425338745\n",
            "acc_sens: 0.3993\n",
            "roc_sens: 0.5\n",
            "parity: 0.1374\n",
            "equality: 0.5377\n",
            "epoch: 13\trsme: 1.1504000425338745\tacc_sens: 0.3993\troc_sens: 0.5\tparity: 0.1374\tequality: 0.5377\t\n",
            "\n",
            "epoch_14\n",
            "100% 390/390 [01:49<00:00,  3.56it/s]\n",
            "cls_loss: 1.3163000345230103\n",
            "adv_loss: 1.478700041770935\n",
            "rsme: 1.2226999998092651\n",
            "acc_sens: 0.3993\n",
            "roc_sens: 0.5\n",
            "parity: 0.2696\n",
            "equality: 0.7768\n",
            "epoch: 14\trsme: 1.2226999998092651\tacc_sens: 0.3993\troc_sens: 0.5\tparity: 0.2696\tequality: 0.7768\t\n",
            "\n",
            "epoch_15\n",
            "100% 390/390 [01:50<00:00,  3.54it/s]\n",
            "cls_loss: 4.375100135803223\n",
            "adv_loss: 56.512699127197266\n",
            "rsme: 3.492000102996826\n",
            "acc_sens: 0.3993\n",
            "roc_sens: 0.5\n",
            "parity: 7.0822\n",
            "equality: 17.5749\n",
            "epoch: 15\trsme: 3.492000102996826\tacc_sens: 0.3993\troc_sens: 0.5\tparity: 7.0822\tequality: 17.5749\t\n",
            "\n",
            "epoch_16\n",
            "100% 390/390 [01:50<00:00,  3.54it/s]\n",
            "cls_loss: 5.966300010681152\n",
            "adv_loss: 349.0458984375\n",
            "rsme: 4.121200084686279\n",
            "acc_sens: 0.3993\n",
            "roc_sens: 0.5\n",
            "parity: 13.7372\n",
            "equality: 31.9183\n",
            "epoch: 16\trsme: 4.121200084686279\tacc_sens: 0.3993\troc_sens: 0.5\tparity: 13.7372\tequality: 31.9183\t\n",
            "\n",
            "epoch_17\n",
            "100% 390/390 [01:50<00:00,  3.54it/s]\n",
            "cls_loss: 3.527899980545044\n",
            "adv_loss: 789.875\n",
            "rsme: 2.5508999824523926\n",
            "acc_sens: 0.3993\n",
            "roc_sens: 0.5\n",
            "parity: 5.3268\n",
            "equality: 12.8635\n",
            "epoch: 17\trsme: 2.5508999824523926\tacc_sens: 0.3993\troc_sens: 0.5\tparity: 5.3268\tequality: 12.8635\t\n",
            "\n",
            "epoch_18\n",
            "100% 390/390 [01:51<00:00,  3.51it/s]\n",
            "cls_loss: 1.9763000011444092\n",
            "adv_loss: 1284.3851318359375\n",
            "rsme: 1.3775999546051025\n",
            "acc_sens: 0.3993\n",
            "roc_sens: 0.5\n",
            "parity: 0.4509\n",
            "equality: 2.0936\n",
            "epoch: 18\trsme: 1.3775999546051025\tacc_sens: 0.3993\troc_sens: 0.5\tparity: 0.4509\tequality: 2.0936\t\n",
            "\n",
            "epoch_19\n",
            "100% 390/390 [01:49<00:00,  3.55it/s]\n",
            "cls_loss: 1.4562000036239624\n",
            "adv_loss: 2013.0003662109375\n",
            "rsme: 1.298699975013733\n",
            "acc_sens: 0.3993\n",
            "roc_sens: 0.5\n",
            "parity: 0.6412\n",
            "equality: 2.9769\n",
            "epoch: 19\trsme: 1.298699975013733\tacc_sens: 0.3993\troc_sens: 0.5\tparity: 0.6412\tequality: 2.9769\t\n",
            "\n",
            "epoch_20\n",
            "100% 390/390 [01:50<00:00,  3.53it/s]\n",
            "cls_loss: 1.2858999967575073\n",
            "adv_loss: 2807.71435546875\n",
            "rsme: 1.2908999919891357\n",
            "acc_sens: 0.3993\n",
            "roc_sens: 0.5\n",
            "parity: 0.7538\n",
            "equality: 3.5\n",
            "epoch: 20\trsme: 1.2908999919891357\tacc_sens: 0.3993\troc_sens: 0.5\tparity: 0.7538\tequality: 3.5\t\n",
            "\n",
            "epoch_21\n",
            "100% 390/390 [01:49<00:00,  3.55it/s]\n",
            "cls_loss: 1.2515000104904175\n",
            "adv_loss: 3895.404052734375\n",
            "rsme: 1.2954000234603882\n",
            "acc_sens: 0.3993\n",
            "roc_sens: 0.5\n",
            "parity: 0.7939\n",
            "equality: 3.6862\n",
            "epoch: 21\trsme: 1.2954000234603882\tacc_sens: 0.3993\troc_sens: 0.5\tparity: 0.7939\tequality: 3.6862\t\n",
            "\n",
            "epoch_22\n",
            " 76% 298/390 [01:25<00:26,  3.50it/s]\n",
            "Traceback (most recent call last):\n",
            "  File \"FairHGNN_age.py\", line 156, in <module>\n",
            "    model.optimize(user_batch, item_batch, rating_batch, sen, sens,idx_sens_train)\n",
            "  File \"/content/drive/Othercomputers/MyComputer/FairHGNN_0623_MLP/FairHGNN_0623_MLP/models/FairHGNN.py\", line 104, in optimize\n",
            "    self.G_loss.backward()\n",
            "  File \"/usr/local/lib/python3.7/site-packages/torch/_tensor.py\", line 307, in backward\n",
            "    torch.autograd.backward(self, gradient, retain_graph, create_graph, inputs=inputs)\n",
            "  File \"/usr/local/lib/python3.7/site-packages/torch/autograd/__init__.py\", line 156, in backward\n",
            "    allow_unreachable=True, accumulate_grad=True)  # allow_unreachable flag\n",
            "KeyboardInterrupt\n"
          ]
        }
      ],
      "source": [
        "import os\n",
        "os.chdir(\"/content/drive/Othercomputers/MyComputer/FairHGNN_0623_MLP/FairHGNN_0623_MLP\")\n",
        "!python FairHGNN_age.py"
      ]
    },
    {
      "cell_type": "markdown",
      "metadata": {
        "id": "3Bo1Iknx1xlR"
      },
      "source": [
        "# FairGo"
      ]
    },
    {
      "cell_type": "code",
      "execution_count": null,
      "metadata": {
        "colab": {
          "base_uri": "https://localhost:8080/"
        },
        "id": "PNeWyXEp3daq",
        "outputId": "d39a9644-a832-480d-877c-9229eb5383b5"
      },
      "outputs": [
        {
          "name": "stdout",
          "output_type": "stream",
          "text": [
            "/content/drive/Othercomputers/MyComputer\n"
          ]
        }
      ],
      "source": [
        "!pwd\n",
        "import os\n",
        "os.chdir(\"/content/drive/Othercomputers/MyComputer\")"
      ]
    },
    {
      "cell_type": "code",
      "execution_count": null,
      "metadata": {
        "colab": {
          "base_uri": "https://localhost:8080/",
          "height": 463
        },
        "id": "aCGDc4yb19Bz",
        "outputId": "587e1f89-0893-43d1-8862-445f922a3a4a"
      },
      "outputs": [
        {
          "name": "stderr",
          "output_type": "stream",
          "text": [
            "IOPub data rate exceeded.\n",
            "The notebook server will temporarily stop sending output\n",
            "to the client in order to avoid crashing it.\n",
            "To change this limit, set the config variable\n",
            "`--NotebookApp.iopub_data_rate_limit`.\n",
            "\n",
            "Current values:\n",
            "NotebookApp.iopub_data_rate_limit=1000000.0 (bytes/sec)\n",
            "NotebookApp.rate_limit_window=3.0 (secs)\n",
            "\n"
          ]
        },
        {
          "name": "stdout",
          "output_type": "stream",
          "text": [
            "val_ratings_dict, size=\n",
            "2052029\n"
          ]
        },
        {
          "ename": "AttributeError",
          "evalue": "ignored",
          "output_type": "error",
          "traceback": [
            "\u001b[0;31m---------------------------------------------------------------------------\u001b[0m",
            "\u001b[0;31mAttributeError\u001b[0m                            Traceback (most recent call last)",
            "\u001b[0;32m<ipython-input-20-d32606d98e19>\u001b[0m in \u001b[0;36m<module>\u001b[0;34m()\u001b[0m\n\u001b[1;32m     27\u001b[0m \u001b[0;34m\u001b[0m\u001b[0m\n\u001b[1;32m     28\u001b[0m \u001b[0mtraining_u_i_set\u001b[0m\u001b[0;34m,\u001b[0m\u001b[0mtraining_i_u_set\u001b[0m \u001b[0;34m=\u001b[0m \u001b[0mnp\u001b[0m\u001b[0;34m.\u001b[0m\u001b[0mload\u001b[0m\u001b[0;34m(\u001b[0m\u001b[0mdataset_base_path\u001b[0m\u001b[0;34m+\u001b[0m\u001b[0;34m'/data1t5/train_adj_set.npy'\u001b[0m\u001b[0;34m,\u001b[0m\u001b[0mallow_pickle\u001b[0m\u001b[0;34m=\u001b[0m\u001b[0;32mTrue\u001b[0m\u001b[0;34m)\u001b[0m\u001b[0;34m\u001b[0m\u001b[0;34m\u001b[0m\u001b[0m\n\u001b[0;32m---> 29\u001b[0;31m \u001b[0mprint\u001b[0m\u001b[0;34m(\u001b[0m\u001b[0;34m\"training_u_i_set, size=\"\u001b[0m\u001b[0;34m+\u001b[0m\u001b[0mtraining_u_i_set\u001b[0m\u001b[0;34m.\u001b[0m\u001b[0msize\u001b[0m\u001b[0;34m)\u001b[0m\u001b[0;34m\u001b[0m\u001b[0;34m\u001b[0m\u001b[0m\n\u001b[0m\u001b[1;32m     30\u001b[0m \u001b[0mprint\u001b[0m\u001b[0;34m(\u001b[0m\u001b[0mtraining_u_i_set\u001b[0m\u001b[0;34m[\u001b[0m\u001b[0;36m20\u001b[0m\u001b[0;34m]\u001b[0m\u001b[0;34m)\u001b[0m\u001b[0;34m\u001b[0m\u001b[0;34m\u001b[0m\u001b[0m\n\u001b[1;32m     31\u001b[0m \u001b[0mprint\u001b[0m\u001b[0;34m(\u001b[0m\u001b[0;34m\"training_i_u_set, size=\"\u001b[0m\u001b[0;34m+\u001b[0m\u001b[0mtraining_i_u_set\u001b[0m\u001b[0;34m.\u001b[0m\u001b[0msize\u001b[0m\u001b[0;34m)\u001b[0m\u001b[0;34m\u001b[0m\u001b[0;34m\u001b[0m\u001b[0m\n",
            "\u001b[0;31mAttributeError\u001b[0m: 'collections.defaultdict' object has no attribute 'size'"
          ]
        }
      ],
      "source": [
        "# 作者已将原始数据集处理好，查看数据集\n",
        "\n",
        "import numpy as np \n",
        "dataset_base_path='FairGo/data/lastfm'\n",
        "\n",
        "#文件损坏？\n",
        "#training_ratings_dict,train_dict_count = np.load(dataset_base_path+'/data1t5/training_ratings_dict.npy',allow_pickle=True)  \n",
        "#print(\"training_ratings_dict, size=\"+training_ratings_dict.size)\n",
        "#print(training_ratings_dict)\n",
        "\n",
        "\n",
        "testing_ratings_dict,test_dict_count = np.load(dataset_base_path+'/data1t5/testing_ratings_dict.npy',allow_pickle=True)\n",
        "print(\"testing_ratings_dict, size:\")\n",
        "print(len(testing_ratings_dict))\n",
        "print(\"testing_ratings_dict, keys:\")\n",
        "print(testing_ratings_dict.keys())\n",
        "print(\"testing_ratings_dict, values:\")\n",
        "print(testing_ratings_dict.values())\n",
        "\n",
        "\n",
        "\n",
        "val_ratings_dict,val_dict_count = np.load(dataset_base_path+'/data1t5/val_ratings_dict.npy',allow_pickle=True)\n",
        "print(\"val_ratings_dict, size=\")\n",
        "print(len(val_ratings_dict))\n",
        "\n",
        "\n",
        "\n",
        "training_u_i_set,training_i_u_set = np.load(dataset_base_path+'/data1t5/train_adj_set.npy',allow_pickle=True)\n",
        "print(\"training_u_i_set, size=\"+training_u_i_set.size)\n",
        "print(training_u_i_set[20])\n",
        "print(\"training_i_u_set, size=\"+training_i_u_set.size)\n",
        "print(training_i_u_set[20])\n",
        "\n",
        "users_features = np.load(dataset_base_path+'/data1t5/users_features.npy',allow_pickle=True)\n",
        "print(\"users_features, size=\"+users_features.size)\n",
        "print(users_features[20])\n",
        "\n",
        "\n",
        "gender_features = np.load(dataset_base_path+'/data1t5/genders.npy',allow_pickle=True)\n",
        "print(\"gender_features, size=\"+gender_features.size)\n",
        "print(gender_features[20])\n",
        "\n",
        "\n",
        "age_features = np.load(dataset_base_path+'/data1t5/ages.npy',allow_pickle=True)\n",
        "print(\"age_features, size=\"+age_features.size)\n",
        "print(age_features[20])\n",
        "\n",
        "users_features_2num = np.load(dataset_base_path+'/data1t5/users_features_2num.npy')\n",
        "print(\"users_features_2num, size=\"+users_features_2num.size)\n",
        "print(users_features_2num[20])\n"
      ]
    },
    {
      "cell_type": "markdown",
      "metadata": {
        "id": "i5Cl9Tji24ez"
      },
      "source": [
        "# FairHGNN with lastfm-360k"
      ]
    },
    {
      "cell_type": "code",
      "execution_count": 8,
      "metadata": {
        "colab": {
          "base_uri": "https://localhost:8080/"
        },
        "id": "5TP7XiEAdNYZ",
        "outputId": "4d24b10a-9d44-4c81-b6c5-e221e71c8678"
      },
      "outputs": [
        {
          "output_type": "stream",
          "name": "stdout",
          "text": [
            "/content/drive/Othercomputers/MyComputer/FairHGNN_0623_MLP/FairHGNN_0623_MLP/datasets/lastfm/original_dataset\n"
          ]
        }
      ],
      "source": [
        "!pwd\n",
        "import os\n",
        "os.chdir(\"/content/drive/Othercomputers/MyComputer/FairHGNN_0623_MLP/FairHGNN_0623_MLP/datasets/lastfm/original_dataset\")"
      ]
    },
    {
      "cell_type": "code",
      "execution_count": null,
      "metadata": {
        "colab": {
          "base_uri": "https://localhost:8080/"
        },
        "id": "cuHzTcJk2_j-",
        "outputId": "fe501fae-8442-4a42-bcb5-b5efd62f85ce"
      },
      "outputs": [
        {
          "name": "stdout",
          "output_type": "stream",
          "text": [
            "open user_profile.txt\n"
          ]
        }
      ],
      "source": [
        "#自己处理原始数据集\n",
        "#在FairHGNN_0623_MLP上进行，不过不使用MLP\n",
        "#输入的user_profile.txt经手动处理，过滤掉敏感属性缺失的用户记录\n",
        "import pandas as pd\n",
        "import numpy as np\n",
        "\n",
        "\n",
        "print(\"open user_profile.txt\")\n",
        "\n",
        "idx_features_labels = pd.read_csv('user_profile.txt',names=[\"user\",\"gender\",\"age\",\"country\",\"date\"], sep = '\\t')\n",
        "signup_timeList = idx_features_labels[\"date\"]\n",
        "signup_yearList = []\n",
        "for idx in range(len(signup_timeList)):\n",
        "  year = str(signup_timeList[idx]).split('-')[2]\n",
        "  signup_yearList.append(year)\n",
        "\n",
        "unique_mailSet = set(idx_features_labels[\"user\"])\n",
        "unique_ageSet = set(idx_features_labels[\"age\"])\n",
        "unique_countrySet = set(idx_features_labels[\"country\"])\n",
        "unique_yearSet = set(signup_yearList)\n",
        "\n",
        "user_num = len(unique_mailSet)\n",
        "year_num = len(unique_yearSet)\n",
        "country_num = len(unique_countrySet)\n",
        "\n",
        "gender2id = {\"m\": 1,\"f\": 0}\n",
        "age2id = {v:i for i,v in enumerate(unique_ageSet)}\n",
        "mail2id = {v:i for i,v in enumerate(unique_mailSet)}\n",
        "country2id = {v:i+user_num for i,v in enumerate(unique_countrySet)}\n",
        "year2id = {v:i+user_num+country_num for i,v in enumerate(unique_yearSet)}\n",
        "\n",
        "idx_features_labels['user'] = idx_features_labels.user.apply(lambda x:mail2id[x])\n",
        "idx_features_labels['gender'] = idx_features_labels.gender.apply(lambda x:gender2id[x])\n",
        "idx_features_labels['age'] = idx_features_labels.age.apply(lambda x:age2id[x])\n",
        "idx_features_labels['country'] = idx_features_labels.country.apply(lambda x:country2id[x])\n",
        "signup_year = pd.Series(data=signup_yearList, index=None, dtype=None, name=None, copy=False)\n",
        "idx_features_labels['date'] = signup_year.apply(lambda x: year2id[x])"
      ]
    },
    {
      "cell_type": "code",
      "execution_count": 7,
      "metadata": {
        "colab": {
          "base_uri": "https://localhost:8080/",
          "height": 511
        },
        "id": "nZR4_gnF50qk",
        "outputId": "5508c825-b0a8-4915-da4e-42fac75775d7"
      },
      "outputs": [
        {
          "metadata": {
            "tags": null
          },
          "name": "stdout",
          "output_type": "stream",
          "text": [
            "open usersha1-artmbid-artname-plays.tsv\n"
          ]
        },
        {
          "metadata": {
            "tags": null
          },
          "name": "stderr",
          "output_type": "stream",
          "text": [
            "/usr/local/lib/python3.7/dist-packages/ipykernel_launcher.py:11: SettingWithCopyWarning: \n",
            "A value is trying to be set on a copy of a slice from a DataFrame\n",
            "\n",
            "See the caveats in the documentation: https://pandas.pydata.org/pandas-docs/stable/user_guide/indexing.html#returning-a-view-versus-a-copy\n",
            "  # This is added back by InteractiveShellApp.init_path()\n"
          ]
        },
        {
          "output_type": "error",
          "ename": "KeyboardInterrupt",
          "evalue": "ignored",
          "traceback": [
            "\u001b[0;31m---------------------------------------------------------------------------\u001b[0m",
            "\u001b[0;31mKeyboardInterrupt\u001b[0m                         Traceback (most recent call last)",
            "\u001b[0;32m<ipython-input-7-e0c021750c7d>\u001b[0m in \u001b[0;36m<module>\u001b[0;34m()\u001b[0m\n\u001b[1;32m      9\u001b[0m \u001b[0;32mfor\u001b[0m \u001b[0midx\u001b[0m \u001b[0;32min\u001b[0m \u001b[0mrange\u001b[0m\u001b[0;34m(\u001b[0m\u001b[0mlen\u001b[0m\u001b[0;34m(\u001b[0m\u001b[0muser_art_plays_data\u001b[0m\u001b[0;34m[\u001b[0m\u001b[0;34m\"user\"\u001b[0m\u001b[0;34m]\u001b[0m\u001b[0;34m)\u001b[0m\u001b[0;34m)\u001b[0m\u001b[0;34m:\u001b[0m\u001b[0;34m\u001b[0m\u001b[0;34m\u001b[0m\u001b[0m\n\u001b[1;32m     10\u001b[0m   \u001b[0;32mif\u001b[0m \u001b[0muser_art_plays_data\u001b[0m\u001b[0;34m[\u001b[0m\u001b[0;34m\"user\"\u001b[0m\u001b[0;34m]\u001b[0m\u001b[0;34m[\u001b[0m\u001b[0midx\u001b[0m\u001b[0;34m]\u001b[0m \u001b[0;32min\u001b[0m \u001b[0munique_mailSet\u001b[0m\u001b[0;34m:\u001b[0m\u001b[0;34m\u001b[0m\u001b[0;34m\u001b[0m\u001b[0m\n\u001b[0;32m---> 11\u001b[0;31m     \u001b[0muser_art_plays_data\u001b[0m\u001b[0;34m[\u001b[0m\u001b[0;34m\"user\"\u001b[0m\u001b[0;34m]\u001b[0m\u001b[0;34m[\u001b[0m\u001b[0midx\u001b[0m\u001b[0;34m]\u001b[0m \u001b[0;34m=\u001b[0m \u001b[0mmail2id\u001b[0m\u001b[0;34m[\u001b[0m\u001b[0muser_art_plays_data\u001b[0m\u001b[0;34m[\u001b[0m\u001b[0;34m\"user\"\u001b[0m\u001b[0;34m]\u001b[0m\u001b[0;34m[\u001b[0m\u001b[0midx\u001b[0m\u001b[0;34m]\u001b[0m\u001b[0;34m]\u001b[0m\u001b[0;34m\u001b[0m\u001b[0;34m\u001b[0m\u001b[0m\n\u001b[0m\u001b[1;32m     12\u001b[0m   \u001b[0;32melse\u001b[0m\u001b[0;34m:\u001b[0m\u001b[0;34m\u001b[0m\u001b[0;34m\u001b[0m\u001b[0m\n\u001b[1;32m     13\u001b[0m     \u001b[0mdelete_idx\u001b[0m\u001b[0;34m.\u001b[0m\u001b[0mappend\u001b[0m\u001b[0;34m(\u001b[0m\u001b[0midx\u001b[0m\u001b[0;34m)\u001b[0m\u001b[0;34m\u001b[0m\u001b[0;34m\u001b[0m\u001b[0m\n",
            "\u001b[0;32m/usr/local/lib/python3.7/dist-packages/pandas/core/series.py\u001b[0m in \u001b[0;36m__setitem__\u001b[0;34m(self, key, value)\u001b[0m\n\u001b[1;32m   1089\u001b[0m \u001b[0;34m\u001b[0m\u001b[0m\n\u001b[1;32m   1090\u001b[0m         \u001b[0;32mif\u001b[0m \u001b[0mcacher_needs_updating\u001b[0m\u001b[0;34m:\u001b[0m\u001b[0;34m\u001b[0m\u001b[0;34m\u001b[0m\u001b[0m\n\u001b[0;32m-> 1091\u001b[0;31m             \u001b[0mself\u001b[0m\u001b[0;34m.\u001b[0m\u001b[0m_maybe_update_cacher\u001b[0m\u001b[0;34m(\u001b[0m\u001b[0;34m)\u001b[0m\u001b[0;34m\u001b[0m\u001b[0;34m\u001b[0m\u001b[0m\n\u001b[0m\u001b[1;32m   1092\u001b[0m \u001b[0;34m\u001b[0m\u001b[0m\n\u001b[1;32m   1093\u001b[0m     \u001b[0;32mdef\u001b[0m \u001b[0m_set_with_engine\u001b[0m\u001b[0;34m(\u001b[0m\u001b[0mself\u001b[0m\u001b[0;34m,\u001b[0m \u001b[0mkey\u001b[0m\u001b[0;34m,\u001b[0m \u001b[0mvalue\u001b[0m\u001b[0;34m)\u001b[0m \u001b[0;34m->\u001b[0m \u001b[0;32mNone\u001b[0m\u001b[0;34m:\u001b[0m\u001b[0;34m\u001b[0m\u001b[0;34m\u001b[0m\u001b[0m\n",
            "\u001b[0;32m/usr/local/lib/python3.7/dist-packages/pandas/core/series.py\u001b[0m in \u001b[0;36m_maybe_update_cacher\u001b[0;34m(self, clear, verify_is_copy)\u001b[0m\n\u001b[1;32m   1233\u001b[0m                 \u001b[0;31m# to ensure column still in dataframe\u001b[0m\u001b[0;34m\u001b[0m\u001b[0;34m\u001b[0m\u001b[0;34m\u001b[0m\u001b[0m\n\u001b[1;32m   1234\u001b[0m                 \u001b[0;31m# otherwise, either self or ref has swapped in new arrays\u001b[0m\u001b[0;34m\u001b[0m\u001b[0;34m\u001b[0m\u001b[0;34m\u001b[0m\u001b[0m\n\u001b[0;32m-> 1235\u001b[0;31m                 \u001b[0mref\u001b[0m\u001b[0;34m.\u001b[0m\u001b[0m_maybe_cache_changed\u001b[0m\u001b[0;34m(\u001b[0m\u001b[0mcacher\u001b[0m\u001b[0;34m[\u001b[0m\u001b[0;36m0\u001b[0m\u001b[0;34m]\u001b[0m\u001b[0;34m,\u001b[0m \u001b[0mself\u001b[0m\u001b[0;34m)\u001b[0m\u001b[0;34m\u001b[0m\u001b[0;34m\u001b[0m\u001b[0m\n\u001b[0m\u001b[1;32m   1236\u001b[0m             \u001b[0;32melse\u001b[0m\u001b[0;34m:\u001b[0m\u001b[0;34m\u001b[0m\u001b[0;34m\u001b[0m\u001b[0m\n\u001b[1;32m   1237\u001b[0m                 \u001b[0;31m# GH#33675 we have swapped in a new array, so parent\u001b[0m\u001b[0;34m\u001b[0m\u001b[0;34m\u001b[0m\u001b[0;34m\u001b[0m\u001b[0m\n",
            "\u001b[0;32m/usr/local/lib/python3.7/dist-packages/pandas/core/frame.py\u001b[0m in \u001b[0;36m_maybe_cache_changed\u001b[0;34m(self, item, value)\u001b[0m\n\u001b[1;32m   3903\u001b[0m         \u001b[0mloc\u001b[0m \u001b[0;34m=\u001b[0m \u001b[0mself\u001b[0m\u001b[0;34m.\u001b[0m\u001b[0m_info_axis\u001b[0m\u001b[0;34m.\u001b[0m\u001b[0mget_loc\u001b[0m\u001b[0;34m(\u001b[0m\u001b[0mitem\u001b[0m\u001b[0;34m)\u001b[0m\u001b[0;34m\u001b[0m\u001b[0;34m\u001b[0m\u001b[0m\n\u001b[1;32m   3904\u001b[0m         \u001b[0marraylike\u001b[0m \u001b[0;34m=\u001b[0m \u001b[0mvalue\u001b[0m\u001b[0;34m.\u001b[0m\u001b[0m_values\u001b[0m\u001b[0;34m\u001b[0m\u001b[0;34m\u001b[0m\u001b[0m\n\u001b[0;32m-> 3905\u001b[0;31m         \u001b[0mself\u001b[0m\u001b[0;34m.\u001b[0m\u001b[0m_mgr\u001b[0m\u001b[0;34m.\u001b[0m\u001b[0miset\u001b[0m\u001b[0;34m(\u001b[0m\u001b[0mloc\u001b[0m\u001b[0;34m,\u001b[0m \u001b[0marraylike\u001b[0m\u001b[0;34m)\u001b[0m\u001b[0;34m\u001b[0m\u001b[0;34m\u001b[0m\u001b[0m\n\u001b[0m\u001b[1;32m   3906\u001b[0m \u001b[0;34m\u001b[0m\u001b[0m\n\u001b[1;32m   3907\u001b[0m     \u001b[0;31m# ----------------------------------------------------------------------\u001b[0m\u001b[0;34m\u001b[0m\u001b[0;34m\u001b[0m\u001b[0;34m\u001b[0m\u001b[0m\n",
            "\u001b[0;32m/usr/local/lib/python3.7/dist-packages/pandas/core/internals/managers.py\u001b[0m in \u001b[0;36miset\u001b[0;34m(self, loc, value)\u001b[0m\n\u001b[1;32m   1076\u001b[0m             \u001b[0mblk_locs\u001b[0m \u001b[0;34m=\u001b[0m \u001b[0mblklocs\u001b[0m\u001b[0;34m[\u001b[0m\u001b[0mval_locs\u001b[0m\u001b[0;34m.\u001b[0m\u001b[0mindexer\u001b[0m\u001b[0;34m]\u001b[0m\u001b[0;34m\u001b[0m\u001b[0;34m\u001b[0m\u001b[0m\n\u001b[1;32m   1077\u001b[0m             \u001b[0;32mif\u001b[0m \u001b[0mblk\u001b[0m\u001b[0;34m.\u001b[0m\u001b[0mshould_store\u001b[0m\u001b[0;34m(\u001b[0m\u001b[0mvalue\u001b[0m\u001b[0;34m)\u001b[0m\u001b[0;34m:\u001b[0m\u001b[0;34m\u001b[0m\u001b[0;34m\u001b[0m\u001b[0m\n\u001b[0;32m-> 1078\u001b[0;31m                 \u001b[0mblk\u001b[0m\u001b[0;34m.\u001b[0m\u001b[0mset_inplace\u001b[0m\u001b[0;34m(\u001b[0m\u001b[0mblk_locs\u001b[0m\u001b[0;34m,\u001b[0m \u001b[0mvalue_getitem\u001b[0m\u001b[0;34m(\u001b[0m\u001b[0mval_locs\u001b[0m\u001b[0;34m)\u001b[0m\u001b[0;34m)\u001b[0m\u001b[0;34m\u001b[0m\u001b[0;34m\u001b[0m\u001b[0m\n\u001b[0m\u001b[1;32m   1079\u001b[0m             \u001b[0;32melse\u001b[0m\u001b[0;34m:\u001b[0m\u001b[0;34m\u001b[0m\u001b[0;34m\u001b[0m\u001b[0m\n\u001b[1;32m   1080\u001b[0m                 \u001b[0munfit_mgr_locs\u001b[0m\u001b[0;34m.\u001b[0m\u001b[0mappend\u001b[0m\u001b[0;34m(\u001b[0m\u001b[0mblk\u001b[0m\u001b[0;34m.\u001b[0m\u001b[0mmgr_locs\u001b[0m\u001b[0;34m.\u001b[0m\u001b[0mas_array\u001b[0m\u001b[0;34m[\u001b[0m\u001b[0mblk_locs\u001b[0m\u001b[0;34m]\u001b[0m\u001b[0;34m)\u001b[0m\u001b[0;34m\u001b[0m\u001b[0;34m\u001b[0m\u001b[0m\n",
            "\u001b[0;32m/usr/local/lib/python3.7/dist-packages/pandas/core/internals/blocks.py\u001b[0m in \u001b[0;36mset_inplace\u001b[0;34m(self, locs, values)\u001b[0m\n\u001b[1;32m    358\u001b[0m         \u001b[0mcreate\u001b[0m \u001b[0ma\u001b[0m \u001b[0mnew\u001b[0m \u001b[0marray\u001b[0m \u001b[0;32mand\u001b[0m \u001b[0malways\u001b[0m \u001b[0mcreates\u001b[0m \u001b[0ma\u001b[0m \u001b[0mnew\u001b[0m \u001b[0mBlock\u001b[0m\u001b[0;34m.\u001b[0m\u001b[0;34m\u001b[0m\u001b[0;34m\u001b[0m\u001b[0m\n\u001b[1;32m    359\u001b[0m         \"\"\"\n\u001b[0;32m--> 360\u001b[0;31m         \u001b[0mself\u001b[0m\u001b[0;34m.\u001b[0m\u001b[0mvalues\u001b[0m\u001b[0;34m[\u001b[0m\u001b[0mlocs\u001b[0m\u001b[0;34m]\u001b[0m \u001b[0;34m=\u001b[0m \u001b[0mvalues\u001b[0m\u001b[0;34m\u001b[0m\u001b[0;34m\u001b[0m\u001b[0m\n\u001b[0m\u001b[1;32m    361\u001b[0m \u001b[0;34m\u001b[0m\u001b[0m\n\u001b[1;32m    362\u001b[0m     \u001b[0;32mdef\u001b[0m \u001b[0mdelete\u001b[0m\u001b[0;34m(\u001b[0m\u001b[0mself\u001b[0m\u001b[0;34m,\u001b[0m \u001b[0mloc\u001b[0m\u001b[0;34m)\u001b[0m \u001b[0;34m->\u001b[0m \u001b[0;32mNone\u001b[0m\u001b[0;34m:\u001b[0m\u001b[0;34m\u001b[0m\u001b[0;34m\u001b[0m\u001b[0m\n",
            "\u001b[0;31mKeyboardInterrupt\u001b[0m: "
          ]
        }
      ],
      "source": [
        "import pandas as pd\n",
        "import numpy as np\n",
        "#读取交互数据并将不属于user_profile.txt的数据过滤，处理item id，artname均为非空，根据name转化item id\n",
        "print(\"open usersha1-artmbid-artname-plays.tsv\")\n",
        "user_art_plays_data=pd.read_csv('usersha1-artmbid-artname-plays.tsv', sep='\\t', names=[\"user\",\"artmbid\",\"artname\",\"rating\"])\n",
        "user_art_plays_data = user_art_plays_data.drop(['artmbid'], axis=1)  \n",
        "delete_idx = []\n",
        "\n",
        "for idx in range(len(user_art_plays_data[\"user\"])):\n",
        "  if user_art_plays_data[\"user\"][idx] in unique_mailSet:\n",
        "    user_art_plays_data[\"user\"][idx] = mail2id[user_art_plays_data[\"user\"][idx]]\n",
        "  else:\n",
        "    delete_idx.append(idx)\n",
        "print(delete_idx)\n",
        "if delete_idx:\n",
        "  user_art_plays_data = user_art_plays_data.drop(delete_idx) \n",
        "\n",
        "print(\"过滤掉user 剩余的交互数据量：\"+len(user_art_plays_data))\n",
        "\n",
        "unique_artnameSet = set(user_art_plays_data[\"artname\"])\n",
        "artname2id = {v:i+user_num+country_num+year_num for i,v in enumerate(unique_artnameSet)}\n",
        "user_art_plays_data['artname'] = user_art_plays_data.artname.apply(lambda x:artname2id[x])"
      ]
    },
    {
      "cell_type": "code",
      "execution_count": 9,
      "metadata": {
        "id": "twms-6gZmroM",
        "colab": {
          "base_uri": "https://localhost:8080/",
          "height": 273
        },
        "outputId": "1a0c857d-b425-45d1-8a66-5124ba4b5345"
      },
      "outputs": [
        {
          "output_type": "error",
          "ename": "KeyboardInterrupt",
          "evalue": "ignored",
          "traceback": [
            "\u001b[0;31m---------------------------------------------------------------------------\u001b[0m",
            "\u001b[0;31mKeyboardInterrupt\u001b[0m                         Traceback (most recent call last)",
            "\u001b[0;32m<ipython-input-9-eb3d3bb9b062>\u001b[0m in \u001b[0;36m<module>\u001b[0;34m()\u001b[0m\n\u001b[1;32m      1\u001b[0m \u001b[0;31m#将处理后的数据保存至文件\u001b[0m\u001b[0;34m\u001b[0m\u001b[0;34m\u001b[0m\u001b[0;34m\u001b[0m\u001b[0m\n\u001b[1;32m      2\u001b[0m \u001b[0;31m#idx_features_labels.to_csv(path_or_buf=\"users.csv\", sep=',', header=[\"user\",\"gender\",\"age\",\"country\",\"date\"])\u001b[0m\u001b[0;34m\u001b[0m\u001b[0;34m\u001b[0m\u001b[0;34m\u001b[0m\u001b[0m\n\u001b[0;32m----> 3\u001b[0;31m \u001b[0muser_art_plays_data\u001b[0m\u001b[0;34m.\u001b[0m\u001b[0mto_csv\u001b[0m\u001b[0;34m(\u001b[0m\u001b[0mpath_or_buf\u001b[0m\u001b[0;34m=\u001b[0m\u001b[0;34m\"ratings.csv\"\u001b[0m\u001b[0;34m,\u001b[0m \u001b[0msep\u001b[0m\u001b[0;34m=\u001b[0m\u001b[0;34m','\u001b[0m\u001b[0;34m,\u001b[0m \u001b[0mheader\u001b[0m\u001b[0;34m=\u001b[0m\u001b[0;34m[\u001b[0m\u001b[0;34m\"user\"\u001b[0m\u001b[0;34m,\u001b[0m\u001b[0;34m\"art\"\u001b[0m\u001b[0;34m,\u001b[0m\u001b[0;34m\"rating\"\u001b[0m\u001b[0;34m]\u001b[0m\u001b[0;34m)\u001b[0m\u001b[0;34m\u001b[0m\u001b[0;34m\u001b[0m\u001b[0m\n\u001b[0m",
            "\u001b[0;32m/usr/local/lib/python3.7/dist-packages/pandas/core/generic.py\u001b[0m in \u001b[0;36mto_csv\u001b[0;34m(self, path_or_buf, sep, na_rep, float_format, columns, header, index, index_label, mode, encoding, compression, quoting, quotechar, line_terminator, chunksize, date_format, doublequote, escapechar, decimal, errors, storage_options)\u001b[0m\n\u001b[1;32m   3480\u001b[0m             \u001b[0mdoublequote\u001b[0m\u001b[0;34m=\u001b[0m\u001b[0mdoublequote\u001b[0m\u001b[0;34m,\u001b[0m\u001b[0;34m\u001b[0m\u001b[0;34m\u001b[0m\u001b[0m\n\u001b[1;32m   3481\u001b[0m             \u001b[0mescapechar\u001b[0m\u001b[0;34m=\u001b[0m\u001b[0mescapechar\u001b[0m\u001b[0;34m,\u001b[0m\u001b[0;34m\u001b[0m\u001b[0;34m\u001b[0m\u001b[0m\n\u001b[0;32m-> 3482\u001b[0;31m             \u001b[0mstorage_options\u001b[0m\u001b[0;34m=\u001b[0m\u001b[0mstorage_options\u001b[0m\u001b[0;34m,\u001b[0m\u001b[0;34m\u001b[0m\u001b[0;34m\u001b[0m\u001b[0m\n\u001b[0m\u001b[1;32m   3483\u001b[0m         )\n\u001b[1;32m   3484\u001b[0m \u001b[0;34m\u001b[0m\u001b[0m\n",
            "\u001b[0;32m/usr/local/lib/python3.7/dist-packages/pandas/io/formats/format.py\u001b[0m in \u001b[0;36mto_csv\u001b[0;34m(self, path_or_buf, encoding, sep, columns, index_label, mode, compression, quoting, quotechar, line_terminator, chunksize, date_format, doublequote, escapechar, errors, storage_options)\u001b[0m\n\u001b[1;32m   1103\u001b[0m             \u001b[0mformatter\u001b[0m\u001b[0;34m=\u001b[0m\u001b[0mself\u001b[0m\u001b[0;34m.\u001b[0m\u001b[0mfmt\u001b[0m\u001b[0;34m,\u001b[0m\u001b[0;34m\u001b[0m\u001b[0;34m\u001b[0m\u001b[0m\n\u001b[1;32m   1104\u001b[0m         )\n\u001b[0;32m-> 1105\u001b[0;31m         \u001b[0mcsv_formatter\u001b[0m\u001b[0;34m.\u001b[0m\u001b[0msave\u001b[0m\u001b[0;34m(\u001b[0m\u001b[0;34m)\u001b[0m\u001b[0;34m\u001b[0m\u001b[0;34m\u001b[0m\u001b[0m\n\u001b[0m\u001b[1;32m   1106\u001b[0m \u001b[0;34m\u001b[0m\u001b[0m\n\u001b[1;32m   1107\u001b[0m         \u001b[0;32mif\u001b[0m \u001b[0mcreated_buffer\u001b[0m\u001b[0;34m:\u001b[0m\u001b[0;34m\u001b[0m\u001b[0;34m\u001b[0m\u001b[0m\n",
            "\u001b[0;32m/usr/local/lib/python3.7/dist-packages/pandas/io/formats/csvs.py\u001b[0m in \u001b[0;36msave\u001b[0;34m(self)\u001b[0m\n\u001b[1;32m    255\u001b[0m             )\n\u001b[1;32m    256\u001b[0m \u001b[0;34m\u001b[0m\u001b[0m\n\u001b[0;32m--> 257\u001b[0;31m             \u001b[0mself\u001b[0m\u001b[0;34m.\u001b[0m\u001b[0m_save\u001b[0m\u001b[0;34m(\u001b[0m\u001b[0;34m)\u001b[0m\u001b[0;34m\u001b[0m\u001b[0;34m\u001b[0m\u001b[0m\n\u001b[0m\u001b[1;32m    258\u001b[0m \u001b[0;34m\u001b[0m\u001b[0m\n\u001b[1;32m    259\u001b[0m     \u001b[0;32mdef\u001b[0m \u001b[0m_save\u001b[0m\u001b[0;34m(\u001b[0m\u001b[0mself\u001b[0m\u001b[0;34m)\u001b[0m \u001b[0;34m->\u001b[0m \u001b[0;32mNone\u001b[0m\u001b[0;34m:\u001b[0m\u001b[0;34m\u001b[0m\u001b[0;34m\u001b[0m\u001b[0m\n",
            "\u001b[0;32m/usr/local/lib/python3.7/dist-packages/pandas/io/formats/csvs.py\u001b[0m in \u001b[0;36m_save\u001b[0;34m(self)\u001b[0m\n\u001b[1;32m    260\u001b[0m         \u001b[0;32mif\u001b[0m \u001b[0mself\u001b[0m\u001b[0;34m.\u001b[0m\u001b[0m_need_to_save_header\u001b[0m\u001b[0;34m:\u001b[0m\u001b[0;34m\u001b[0m\u001b[0;34m\u001b[0m\u001b[0m\n\u001b[1;32m    261\u001b[0m             \u001b[0mself\u001b[0m\u001b[0;34m.\u001b[0m\u001b[0m_save_header\u001b[0m\u001b[0;34m(\u001b[0m\u001b[0;34m)\u001b[0m\u001b[0;34m\u001b[0m\u001b[0;34m\u001b[0m\u001b[0m\n\u001b[0;32m--> 262\u001b[0;31m         \u001b[0mself\u001b[0m\u001b[0;34m.\u001b[0m\u001b[0m_save_body\u001b[0m\u001b[0;34m(\u001b[0m\u001b[0;34m)\u001b[0m\u001b[0;34m\u001b[0m\u001b[0;34m\u001b[0m\u001b[0m\n\u001b[0m\u001b[1;32m    263\u001b[0m \u001b[0;34m\u001b[0m\u001b[0m\n\u001b[1;32m    264\u001b[0m     \u001b[0;32mdef\u001b[0m \u001b[0m_save_header\u001b[0m\u001b[0;34m(\u001b[0m\u001b[0mself\u001b[0m\u001b[0;34m)\u001b[0m \u001b[0;34m->\u001b[0m \u001b[0;32mNone\u001b[0m\u001b[0;34m:\u001b[0m\u001b[0;34m\u001b[0m\u001b[0;34m\u001b[0m\u001b[0m\n",
            "\u001b[0;32m/usr/local/lib/python3.7/dist-packages/pandas/io/formats/csvs.py\u001b[0m in \u001b[0;36m_save_body\u001b[0;34m(self)\u001b[0m\n\u001b[1;32m    298\u001b[0m             \u001b[0;32mif\u001b[0m \u001b[0mstart_i\u001b[0m \u001b[0;34m>=\u001b[0m \u001b[0mend_i\u001b[0m\u001b[0;34m:\u001b[0m\u001b[0;34m\u001b[0m\u001b[0;34m\u001b[0m\u001b[0m\n\u001b[1;32m    299\u001b[0m                 \u001b[0;32mbreak\u001b[0m\u001b[0;34m\u001b[0m\u001b[0;34m\u001b[0m\u001b[0m\n\u001b[0;32m--> 300\u001b[0;31m             \u001b[0mself\u001b[0m\u001b[0;34m.\u001b[0m\u001b[0m_save_chunk\u001b[0m\u001b[0;34m(\u001b[0m\u001b[0mstart_i\u001b[0m\u001b[0;34m,\u001b[0m \u001b[0mend_i\u001b[0m\u001b[0;34m)\u001b[0m\u001b[0;34m\u001b[0m\u001b[0;34m\u001b[0m\u001b[0m\n\u001b[0m\u001b[1;32m    301\u001b[0m \u001b[0;34m\u001b[0m\u001b[0m\n\u001b[1;32m    302\u001b[0m     \u001b[0;32mdef\u001b[0m \u001b[0m_save_chunk\u001b[0m\u001b[0;34m(\u001b[0m\u001b[0mself\u001b[0m\u001b[0;34m,\u001b[0m \u001b[0mstart_i\u001b[0m\u001b[0;34m:\u001b[0m \u001b[0mint\u001b[0m\u001b[0;34m,\u001b[0m \u001b[0mend_i\u001b[0m\u001b[0;34m:\u001b[0m \u001b[0mint\u001b[0m\u001b[0;34m)\u001b[0m \u001b[0;34m->\u001b[0m \u001b[0;32mNone\u001b[0m\u001b[0;34m:\u001b[0m\u001b[0;34m\u001b[0m\u001b[0;34m\u001b[0m\u001b[0m\n",
            "\u001b[0;32m/usr/local/lib/python3.7/dist-packages/pandas/io/formats/csvs.py\u001b[0m in \u001b[0;36m_save_chunk\u001b[0;34m(self, start_i, end_i)\u001b[0m\n\u001b[1;32m    314\u001b[0m             \u001b[0mself\u001b[0m\u001b[0;34m.\u001b[0m\u001b[0mnlevels\u001b[0m\u001b[0;34m,\u001b[0m\u001b[0;34m\u001b[0m\u001b[0;34m\u001b[0m\u001b[0m\n\u001b[1;32m    315\u001b[0m             \u001b[0mself\u001b[0m\u001b[0;34m.\u001b[0m\u001b[0mcols\u001b[0m\u001b[0;34m,\u001b[0m\u001b[0;34m\u001b[0m\u001b[0;34m\u001b[0m\u001b[0m\n\u001b[0;32m--> 316\u001b[0;31m             \u001b[0mself\u001b[0m\u001b[0;34m.\u001b[0m\u001b[0mwriter\u001b[0m\u001b[0;34m,\u001b[0m\u001b[0;34m\u001b[0m\u001b[0;34m\u001b[0m\u001b[0m\n\u001b[0m\u001b[1;32m    317\u001b[0m         )\n",
            "\u001b[0;32m/usr/local/lib/python3.7/dist-packages/pandas/_libs/writers.pyx\u001b[0m in \u001b[0;36mpandas._libs.writers.write_csv_rows\u001b[0;34m()\u001b[0m\n",
            "\u001b[0;31mKeyboardInterrupt\u001b[0m: "
          ]
        }
      ],
      "source": [
        "#将处理后的数据保存至文件\n",
        "#idx_features_labels.to_csv(path_or_buf=\"users.csv\", sep=',', header=[\"user\",\"gender\",\"age\",\"country\",\"date\"])\n",
        "user_art_plays_data.to_csv(path_or_buf=\"ratings.csv\", sep=',', header=[\"user\",\"art\",\"rating\"])"
      ]
    },
    {
      "cell_type": "code",
      "execution_count": null,
      "metadata": {
        "id": "aVRIHZJ9oW6Z"
      },
      "outputs": [],
      "source": [
        ""
      ]
    }
  ],
  "metadata": {
    "colab": {
      "collapsed_sections": [
        "APR5od6W1rrJ",
        "3Bo1Iknx1xlR"
      ],
      "name": "Untitled0.ipynb",
      "provenance": [],
      "mount_file_id": "1UZwSrSc2caUptgW4OD3ueHek8Zcj1MwY",
      "authorship_tag": "ABX9TyNZSNJnPDJI7xDkvJhQD1T9",
      "include_colab_link": true
    },
    "gpuClass": "standard",
    "kernelspec": {
      "display_name": "Python 3",
      "name": "python3"
    },
    "language_info": {
      "name": "python"
    },
    "accelerator": "GPU"
  },
  "nbformat": 4,
  "nbformat_minor": 0
}